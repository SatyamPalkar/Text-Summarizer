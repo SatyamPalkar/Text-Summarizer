{
 "cells": [
  {
   "cell_type": "code",
   "execution_count": 1,
   "metadata": {},
   "outputs": [],
   "source": [
    "import sys\n",
    "import os\n",
    "\n",
    "\n",
    "sys.path.append(os.path.abspath(os.path.join('../src')))"
   ]
  },
  {
   "cell_type": "code",
   "execution_count": 2,
   "metadata": {},
   "outputs": [
    {
     "data": {
      "text/plain": [
       "'c:\\\\Projects\\\\Text-Summarizer\\\\research'"
      ]
     },
     "execution_count": 2,
     "metadata": {},
     "output_type": "execute_result"
    }
   ],
   "source": [
    "%pwd"
   ]
  },
  {
   "cell_type": "code",
   "execution_count": 3,
   "metadata": {},
   "outputs": [],
   "source": [
    "os.chdir(\"C:\\Projects\\Text-Summarizer\")"
   ]
  },
  {
   "cell_type": "code",
   "execution_count": 4,
   "metadata": {},
   "outputs": [
    {
     "data": {
      "text/plain": [
       "'C:\\\\Projects\\\\Text-Summarizer'"
      ]
     },
     "execution_count": 4,
     "metadata": {},
     "output_type": "execute_result"
    }
   ],
   "source": [
    "%pwd"
   ]
  },
  {
   "cell_type": "code",
   "execution_count": 5,
   "metadata": {},
   "outputs": [
    {
     "name": "stdout",
     "output_type": "stream",
     "text": [
      "Requirement already satisfied: boto3 in c:\\users\\satya\\anaconda3\\envs\\texts\\lib\\site-packages (1.37.26)\n",
      "Requirement already satisfied: mypy-boto3-s3 in c:\\users\\satya\\anaconda3\\envs\\texts\\lib\\site-packages (1.37.24)\n",
      "Requirement already satisfied: python-box==6.0.2 in c:\\users\\satya\\anaconda3\\envs\\texts\\lib\\site-packages (6.0.2)\n",
      "Requirement already satisfied: ensure==1.0.2 in c:\\users\\satya\\anaconda3\\envs\\texts\\lib\\site-packages (1.0.2)\n",
      "Requirement already satisfied: six>=1.11.0 in c:\\users\\satya\\anaconda3\\envs\\texts\\lib\\site-packages (from ensure==1.0.2) (1.16.0)\n",
      "Requirement already satisfied: botocore<1.38.0,>=1.37.26 in c:\\users\\satya\\anaconda3\\envs\\texts\\lib\\site-packages (from boto3) (1.37.26)\n",
      "Requirement already satisfied: jmespath<2.0.0,>=0.7.1 in c:\\users\\satya\\anaconda3\\envs\\texts\\lib\\site-packages (from boto3) (1.0.1)\n",
      "Requirement already satisfied: s3transfer<0.12.0,>=0.11.0 in c:\\users\\satya\\anaconda3\\envs\\texts\\lib\\site-packages (from boto3) (0.11.4)\n",
      "Requirement already satisfied: typing-extensions in c:\\users\\satya\\anaconda3\\envs\\texts\\lib\\site-packages (from mypy-boto3-s3) (4.12.2)\n",
      "Requirement already satisfied: python-dateutil<3.0.0,>=2.1 in c:\\users\\satya\\anaconda3\\envs\\texts\\lib\\site-packages (from botocore<1.38.0,>=1.37.26->boto3) (2.9.0)\n",
      "Requirement already satisfied: urllib3<1.27,>=1.25.4 in c:\\users\\satya\\anaconda3\\envs\\texts\\lib\\site-packages (from botocore<1.38.0,>=1.37.26->boto3) (1.26.20)\n"
     ]
    }
   ],
   "source": [
    "!pip install boto3 mypy-boto3-s3 python-box==6.0.2 ensure==1.0.2\n",
    "\n"
   ]
  },
  {
   "cell_type": "code",
   "execution_count": 6,
   "metadata": {},
   "outputs": [],
   "source": [
    "from dataclasses import dataclass\n",
    "from pathlib import Path\n",
    "\n",
    "@dataclass(frozen=True)\n",
    "class DataIngestionConfig:\n",
    "    root_dir: Path\n",
    "    source_URL: str\n",
    "    local_data_file : Path\n",
    "    unzip_dir: Path"
   ]
  },
  {
   "cell_type": "code",
   "execution_count": 7,
   "metadata": {},
   "outputs": [],
   "source": [
    "from textSummarizer.utils.common import read_yaml, create_directories\n",
    "from textSummarizer.constants import *"
   ]
  },
  {
   "cell_type": "code",
   "execution_count": null,
   "metadata": {},
   "outputs": [
    {
     "name": "stdout",
     "output_type": "stream",
     "text": [
      "['c:\\\\Users\\\\satya\\\\anaconda3\\\\envs\\\\textS\\\\python38.zip', 'c:\\\\Users\\\\satya\\\\anaconda3\\\\envs\\\\textS\\\\DLLs', 'c:\\\\Users\\\\satya\\\\anaconda3\\\\envs\\\\textS\\\\lib', 'c:\\\\Users\\\\satya\\\\anaconda3\\\\envs\\\\textS', '', 'c:\\\\Users\\\\satya\\\\anaconda3\\\\envs\\\\textS\\\\lib\\\\site-packages', 'c:\\\\Users\\\\satya\\\\anaconda3\\\\envs\\\\textS\\\\lib\\\\site-packages\\\\win32', 'c:\\\\Users\\\\satya\\\\anaconda3\\\\envs\\\\textS\\\\lib\\\\site-packages\\\\win32\\\\lib', 'c:\\\\Users\\\\satya\\\\anaconda3\\\\envs\\\\textS\\\\lib\\\\site-packages\\\\Pythonwin', 'c:\\\\Projects\\\\Text-Summarizer\\\\src', 'C:\\\\Projects\\\\Text-Summarizer\\\\src\\\\src', 'C:\\\\Projects\\\\Text-Summarizer\\\\src\\\\src', 'C:\\\\Projects\\\\Text-Summarizer\\\\src', 'C:\\\\Projects\\\\src', 'C:\\\\Projects\\\\src', 'C:\\\\Projects\\\\src']\n"
     ]
    }
   ],
   "source": [
    "\n"
   ]
  },
  {
   "cell_type": "code",
   "execution_count": null,
   "metadata": {},
   "outputs": [
    {
     "name": "stdout",
     "output_type": "stream",
     "text": [
      "c:\\Projects\\Text-Summarizer\\src\\textSummarizer\\__init__.py\n"
     ]
    }
   ],
   "source": [
    "\n"
   ]
  },
  {
   "cell_type": "code",
   "execution_count": null,
   "metadata": {},
   "outputs": [],
   "source": []
  }
 ],
 "metadata": {
  "kernelspec": {
   "display_name": "textS",
   "language": "python",
   "name": "python3"
  },
  "language_info": {
   "codemirror_mode": {
    "name": "ipython",
    "version": 3
   },
   "file_extension": ".py",
   "mimetype": "text/x-python",
   "name": "python",
   "nbconvert_exporter": "python",
   "pygments_lexer": "ipython3",
   "version": "3.8.20"
  }
 },
 "nbformat": 4,
 "nbformat_minor": 2
}
